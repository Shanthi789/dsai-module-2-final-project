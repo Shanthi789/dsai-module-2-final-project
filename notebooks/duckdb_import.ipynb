{
 "cells": [
  {
   "cell_type": "markdown",
   "metadata": {},
   "source": [
    "### Import Olist csv file into olist.duckdb"
   ]
  },
  {
   "cell_type": "markdown",
   "metadata": {},
   "source": [
    "> Import CSV files in the data/ directory into DuckDB, one table per file.\n",
    "\n",
    "> Table named as per CSV file name."
   ]
  },
  {
   "cell_type": "code",
   "execution_count": 4,
   "metadata": {},
   "outputs": [
    {
     "name": "stdout",
     "output_type": "stream",
     "text": [
      "Importing olist_geolocation_dataset.csv as table 'olist_geolocation_dataset'...\n",
      "Importing olist_order_reviews_dataset.csv as table 'olist_order_reviews_dataset'...\n",
      "Importing olist_order_items_dataset.csv as table 'olist_order_items_dataset'...\n",
      "Importing olist_order_payments_dataset.csv as table 'olist_order_payments_dataset'...\n",
      "Importing product_category_name_translation.csv as table 'product_category_name_translation'...\n",
      "Importing olist_sellers_dataset.csv as table 'olist_sellers_dataset'...\n",
      "Importing olist_products_dataset.csv as table 'olist_products_dataset'...\n",
      "Importing olist_orders_dataset.csv as table 'olist_orders_dataset'...\n",
      "Importing olist_customers_dataset.csv as table 'olist_customers_dataset'...\n",
      "✅ All CSV files have been imported into DuckDB.\n"
     ]
    }
   ],
   "source": [
    "import duckdb\n",
    "import os\n",
    "\n",
    "# Path to your DuckDB database file\n",
    "db_path = '../db/olist.db'\n",
    "\n",
    "# Directory containing all your CSV files\n",
    "csv_folder = '../data'\n",
    "\n",
    "# Connect to DuckDB\n",
    "con = duckdb.connect(database=db_path)\n",
    "\n",
    "# Loop through each CSV file in the directory\n",
    "for file in os.listdir(csv_folder):\n",
    "    if file.endswith('.csv'):\n",
    "        table_name = file.replace('.csv', '')\n",
    "        file_path = os.path.join(csv_folder, file)\n",
    "        print(f\"Importing {file} as table '{table_name}'...\")\n",
    "        \n",
    "        # Create table from CSV\n",
    "        con.execute(f\"\"\"\n",
    "            CREATE OR REPLACE TABLE {table_name} AS \n",
    "            SELECT * FROM read_csv_auto('{file_path}');\n",
    "        \"\"\")\n",
    "\n",
    "print(\"✅ All CSV files have been imported into DuckDB.\")\n",
    "con.close()\n"
   ]
  }
 ],
 "metadata": {
  "kernelspec": {
   "display_name": "elt",
   "language": "python",
   "name": "python3"
  },
  "language_info": {
   "codemirror_mode": {
    "name": "ipython",
    "version": 3
   },
   "file_extension": ".py",
   "mimetype": "text/x-python",
   "name": "python",
   "nbconvert_exporter": "python",
   "pygments_lexer": "ipython3",
   "version": "3.10.16"
  }
 },
 "nbformat": 4,
 "nbformat_minor": 2
}
