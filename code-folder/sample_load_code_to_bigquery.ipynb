{
 "cells": [
  {
   "cell_type": "code",
   "execution_count": 1,
   "metadata": {},
   "outputs": [],
   "source": [
    "from google.cloud import bigquery\n",
    "from google.oauth2 import service_account\n",
    "\n",
    "# Path to your service account JSON key file\n",
    "key_path = \"/home/usercheong/final_project/final-project-57294-18dd43325219.json\"\n",
    "\n",
    "# Create credentials using the JSON key file\n",
    "credentials = service_account.Credentials.from_service_account_file(\n",
    "    key_path,\n",
    "    scopes=[\"https://www.googleapis.com/auth/cloud-platform\"],\n",
    ")\n",
    "\n",
    "# Initialize the BigQuery client with the credentials\n",
    "client = bigquery.Client(credentials=credentials,project=\"final-project-57294\")\n"
   ]
  },
  {
   "cell_type": "code",
   "execution_count": 4,
   "metadata": {},
   "outputs": [
    {
     "name": "stdout",
     "output_type": "stream",
     "text": [
      "CSV uploaded successfully!\n"
     ]
    }
   ],
   "source": [
    "import pandas as pd\n",
    "\n",
    "# Load CSV into a Pandas DataFrame\n",
    "df = pd.read_csv(\"testfile.csv\")\n",
    "\n",
    "# Define table details\n",
    "table_id = \"final-project-57294.test_project.test_table\"\n",
    "\n",
    "# Upload data\n",
    "job = client.load_table_from_dataframe(df, table_id)\n",
    "job.result()  # Wait for the job to complete\n",
    "\n",
    "print(\"CSV uploaded successfully!\")"
   ]
  }
 ],
 "metadata": {
  "kernelspec": {
   "display_name": "dwh",
   "language": "python",
   "name": "python3"
  },
  "language_info": {
   "codemirror_mode": {
    "name": "ipython",
    "version": 3
   },
   "file_extension": ".py",
   "mimetype": "text/x-python",
   "name": "python",
   "nbconvert_exporter": "python",
   "pygments_lexer": "ipython3",
   "version": "3.10.16"
  }
 },
 "nbformat": 4,
 "nbformat_minor": 2
}
