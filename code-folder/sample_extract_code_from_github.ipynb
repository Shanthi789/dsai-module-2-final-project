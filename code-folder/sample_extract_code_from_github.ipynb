{
 "cells": [
  {
   "cell_type": "code",
   "execution_count": null,
   "metadata": {},
   "outputs": [
    {
     "name": "stdout",
     "output_type": "stream",
     "text": [
      "                                                customer_unique_id  \\\n",
      "customer_id                                                          \n",
      "06b8999e2fba1a1fbc88172c00ba8bc7  861eff4711a542e4b93843c6dd7febb0   \n",
      "18955e83d337fd6b2def6b18a428ac77  290c77bc529b7ac935b93aa66c333dc3   \n",
      "4e7b3e00288586ebd08712fdd0374a03  060e732b5b29e8181a18229c7b0b2b5e   \n",
      "b2b6027bc5c5109e529d4dc6358b12c3  259dac757896d24d7702b9acbbff3f3c   \n",
      "4f2d8ab171c80ec8364f7c12e35b23ad  345ecd01c38d18a9036ed96c73b8d066   \n",
      "\n",
      "                                  customer_zip_code_prefix  \\\n",
      "customer_id                                                  \n",
      "06b8999e2fba1a1fbc88172c00ba8bc7                     14409   \n",
      "18955e83d337fd6b2def6b18a428ac77                      9790   \n",
      "4e7b3e00288586ebd08712fdd0374a03                      1151   \n",
      "b2b6027bc5c5109e529d4dc6358b12c3                      8775   \n",
      "4f2d8ab171c80ec8364f7c12e35b23ad                     13056   \n",
      "\n",
      "                                          customer_city customer_state  \n",
      "customer_id                                                             \n",
      "06b8999e2fba1a1fbc88172c00ba8bc7                 franca             SP  \n",
      "18955e83d337fd6b2def6b18a428ac77  sao bernardo do campo             SP  \n",
      "4e7b3e00288586ebd08712fdd0374a03              sao paulo             SP  \n",
      "b2b6027bc5c5109e529d4dc6358b12c3        mogi das cruzes             SP  \n",
      "4f2d8ab171c80ec8364f7c12e35b23ad               campinas             SP  \n"
     ]
    }
   ],
   "source": [
    "import requests\n",
    "import pandas as pd\n",
    "from io import StringIO\n",
    "\n",
    "#extract data from github\n",
    "# Replace with your GitHub token\n",
    "GITHUB_TOKEN = 'your_github_token'\n",
    "\n",
    "# Replace with the raw URL of the CSV file\n",
    "url = 'https://raw.githubusercontent.com/cheong288/dsai-module-2-final-project/main/data/olist_customers_dataset.csv'\n",
    "\n",
    "# Add the token to the request headers\n",
    "headers = {\n",
    "    'Authorization': f'token {GITHUB_TOKEN}'\n",
    "}\n",
    "\n",
    "# Fetch the file content using requests\n",
    "response = requests.get(url, headers=headers)\n",
    "\n",
    "# Check if the request was successful\n",
    "if response.status_code == 200:\n",
    "# Use StringIO to create a file-like object from the response content\n",
    "    csv_data = StringIO(response.text)\n",
    "\n",
    "# Read the CSV into a pandas DataFrame, skipping problematic rows\n",
    "    df = pd.read_csv(csv_data, index_col=0, on_bad_lines='skip', engine='python')\n",
    "    print(df.head())\n",
    "else:\n",
    "    print(f\"Failed to fetch the file. Status code: {response.status_code}\")"
   ]
  }
 ],
 "metadata": {
  "kernelspec": {
   "display_name": "bde",
   "language": "python",
   "name": "python3"
  },
  "language_info": {
   "codemirror_mode": {
    "name": "ipython",
    "version": 3
   },
   "file_extension": ".py",
   "mimetype": "text/x-python",
   "name": "python",
   "nbconvert_exporter": "python",
   "pygments_lexer": "ipython3",
   "version": "3.10.13"
  }
 },
 "nbformat": 4,
 "nbformat_minor": 2
}
